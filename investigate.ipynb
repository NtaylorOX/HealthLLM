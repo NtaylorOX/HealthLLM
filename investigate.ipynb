{
 "cells": [
  {
   "cell_type": "code",
   "execution_count": 1,
   "metadata": {},
   "outputs": [],
   "source": [
    "import pickle"
   ]
  },
  {
   "cell_type": "code",
   "execution_count": 2,
   "metadata": {},
   "outputs": [],
   "source": [
    "path = './exsit_knowledge/my_dict.pkl'\n",
    "with open(path, 'rb') as file:\n",
    "    loaded_data = pickle.load(file)\n",
    "paragraph = []\n",
    "for i in loaded_data:\n",
    "    paragraph.append(loaded_data[i])"
   ]
  },
  {
   "cell_type": "code",
   "execution_count": 4,
   "metadata": {},
   "outputs": [
    {
     "data": {
      "text/plain": [
       "'\"It should come but not come, it should come more but less\" is irregular menstruation. The so-called irregular menstruation means that menstruation does not come according to the normal cycle. However, there are actually many different types of irregular menstruation:\\nOligomenorrhea: means irregular menstrual bleeding and infrequent menstrual bleeding; Frequent menstrual bleeding: means too many menstrual bleeding; Polymenorrhea: means menstrual bleeding that lasts too long and too much, but the menstrual cycle is regular; Oligomenorrhagia: means menstrual bleeding is too frequent Menstrual bleeding is light, but the intervals between menstrual cycles are normal. The most common cause of irregular menstruation is hormonal imbalance, while others may be caused by organ disease. Hormonal imbalance is the most common cause of uterine bleeding, especially in adolescent girls and menopausal women. Hormonal imbalance causes anovulatory bleeding, which leads to chaotic menstruation at first menstruation or near menopause. In addition, it will cause the endometrium to grow unrestricted, so that it grows to the thickness of the endometrium that the uterus itself cannot bear, causing breakthrough bleeding. Therefore, the amount of menstrual blood is often small and dark brown in the early stage, and will increase with time. Evolved into massive bleeding. Difficulty in coagulation is also one of the causes of irregular menstruation. For example, people who lack platelets or have leukemia will be unable to stop bleeding after menstruation due to coagulation dysfunction, resulting in heavy menstrual flow. There is also the problem of thyroid. If the thyroid function is too low or too high, it will cause ovarian dysfunction and irregular menstruation. In addition, poor liver function can also lead to irregular menstruation. Poor liver function can slow down female hormones, cause endometrial hyperplasia, and cause abnormal bleeding. There are other reasons, such as pregnancy. During pregnancy, there will be abnormal bleeding due to problems during implantation or endometrium support. At this time, you need to be careful about whether there is premature birth or miscarriage. Malignant tumors: such as cervical cancer, endometrial cancer, ovarian cancer and some tumors that secrete female hormones, causing endometrial hyperplasia and irregular menstruation, or the cervix is directly invaded by tumors. Cause bleeding; uterine tumors: This is the second common cause of uterine bleeding. For example, uterine polyps, uterine fibroids, uterine fibroids, etc. can cause excessive menstrual bleeding. For some submucosal uterine fibroids or endometrial growth, People with polyps often also have heavy bleeding; foreign bodies remain in the vagina or uterus: foreign bodies remaining in the uterus can cause irritation to the endometrium, so people with irregular menstruation and contraceptive devices may want to consider using contraceptive devices. Remove the device to see if it returns to normal.'"
      ]
     },
     "execution_count": 4,
     "metadata": {},
     "output_type": "execute_result"
    }
   ],
   "source": [
    "paragraph[0]"
   ]
  },
  {
   "cell_type": "markdown",
   "metadata": {},
   "source": [
    "## test llama local\n"
   ]
  },
  {
   "cell_type": "code",
   "execution_count": 2,
   "metadata": {},
   "outputs": [
    {
     "name": "stdout",
     "output_type": "stream",
     "text": [
      "Name: llama-index\n",
      "Version: 0.10.30\n",
      "Summary: Interface between LLMs and your data\n",
      "Home-page: https://llamaindex.ai\n",
      "Author: Jerry Liu\n",
      "Author-email: jerry@llamaindex.ai\n",
      "License: MIT\n",
      "Location: /home/niallt/.pyenv/versions/3.11.2/envs/311_healthllm/lib/python3.11/site-packages\n",
      "Requires: llama-index-agent-openai, llama-index-cli, llama-index-core, llama-index-embeddings-openai, llama-index-indices-managed-llama-cloud, llama-index-legacy, llama-index-llms-openai, llama-index-multi-modal-llms-openai, llama-index-program-openai, llama-index-question-gen-openai, llama-index-readers-file, llama-index-readers-llama-parse\n",
      "Required-by: \n"
     ]
    }
   ],
   "source": [
    "!pip show llama-index"
   ]
  },
  {
   "cell_type": "code",
   "execution_count": 3,
   "metadata": {},
   "outputs": [
    {
     "ename": "ImportError",
     "evalue": "cannot import name 'GPTVectorStoreIndex' from 'llama_index' (unknown location)",
     "output_type": "error",
     "traceback": [
      "\u001b[0;31m---------------------------------------------------------------------------\u001b[0m",
      "\u001b[0;31mImportError\u001b[0m                               Traceback (most recent call last)",
      "Cell \u001b[0;32mIn[3], line 1\u001b[0m\n\u001b[0;32m----> 1\u001b[0m \u001b[38;5;28;01mfrom\u001b[39;00m \u001b[38;5;21;01mllama_index\u001b[39;00m \u001b[38;5;28;01mimport\u001b[39;00m GPTVectorStoreIndex, SimpleDirectoryReader\n",
      "\u001b[0;31mImportError\u001b[0m: cannot import name 'GPTVectorStoreIndex' from 'llama_index' (unknown location)"
     ]
    }
   ],
   "source": [
    "from llama_index import GPTVectorStoreIndex, SimpleDirectoryReader"
   ]
  },
  {
   "cell_type": "code",
   "execution_count": 1,
   "metadata": {},
   "outputs": [
    {
     "name": "stderr",
     "output_type": "stream",
     "text": [
      "/home/niallt/.pyenv/versions/3.11.2/envs/311_healthllm/lib/python3.11/site-packages/tqdm/auto.py:21: TqdmWarning: IProgress not found. Please update jupyter and ipywidgets. See https://ipywidgets.readthedocs.io/en/stable/user_install.html\n",
      "  from .autonotebook import tqdm as notebook_tqdm\n"
     ]
    }
   ],
   "source": [
    "from llama_index.core import VectorStoreIndex, SimpleDirectoryReader, Settings\n",
    "from llama_index.core.embeddings import resolve_embed_model\n",
    "from llama_index.llms.ollama import Ollama\n",
    "\n",
    "documents = SimpleDirectoryReader(\"./dataset_folder/health_report_{0}/\").load_data()\n",
    "\n",
    "# bge embedding model\n",
    "Settings.embed_model = resolve_embed_model(\"local:BAAI/bge-small-en-v1.5\")\n",
    "\n",
    "# ollama\n",
    "Settings.llm = Ollama(model=\"mistral\", request_timeout=30.0)\n",
    "\n",
    "index = VectorStoreIndex.from_documents(\n",
    "    documents,\n",
    ")"
   ]
  },
  {
   "cell_type": "markdown",
   "metadata": {},
   "source": []
  },
  {
   "cell_type": "code",
   "execution_count": 2,
   "metadata": {},
   "outputs": [
    {
     "name": "stdout",
     "output_type": "stream",
     "text": [
      " Based on the conversation between the patient and the healthcare professional, it is mentioned that the patient had considered the possibility of having diarrhea based on her symptoms, but she did not mention having diarrhea currently during their discussion. The healthcare professional also advised against taking a specific medication for diarrhea unless the symptom appeared. Therefore, there is no clear indication from the conversation that the patient has diarrhea at that moment.\n"
     ]
    }
   ],
   "source": [
    "query_engine = index.as_query_engine()\n",
    "response = query_engine.query(\"Does the patient have diarrhea?\")\n",
    "print(response)"
   ]
  },
  {
   "cell_type": "code",
   "execution_count": null,
   "metadata": {},
   "outputs": [],
   "source": []
  }
 ],
 "metadata": {
  "kernelspec": {
   "display_name": "311_llm",
   "language": "python",
   "name": "python3"
  },
  "language_info": {
   "codemirror_mode": {
    "name": "ipython",
    "version": 3
   },
   "file_extension": ".py",
   "mimetype": "text/x-python",
   "name": "python",
   "nbconvert_exporter": "python",
   "pygments_lexer": "ipython3",
   "version": "3.11.2"
  }
 },
 "nbformat": 4,
 "nbformat_minor": 2
}
